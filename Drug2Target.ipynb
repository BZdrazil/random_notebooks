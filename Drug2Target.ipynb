{
 "cells": [
  {
   "cell_type": "markdown",
   "id": "bdd29799",
   "metadata": {},
   "source": [
    "## Retrieving bioactivity data for drugs & probes from ChEMBL"
   ]
  },
  {
   "cell_type": "code",
   "execution_count": 40,
   "id": "4f826d12",
   "metadata": {},
   "outputs": [],
   "source": [
    "df_drugs = pd.read_csv(\"/Users/bzdrazil/Dropbox/OT/Drug2Target/drug_to_target_unique_drugs.csv\")"
   ]
  },
  {
   "cell_type": "code",
   "execution_count": 41,
   "id": "7a35e088",
   "metadata": {},
   "outputs": [
    {
     "data": {
      "text/html": [
       "<div>\n",
       "<style scoped>\n",
       "    .dataframe tbody tr th:only-of-type {\n",
       "        vertical-align: middle;\n",
       "    }\n",
       "\n",
       "    .dataframe tbody tr th {\n",
       "        vertical-align: top;\n",
       "    }\n",
       "\n",
       "    .dataframe thead th {\n",
       "        text-align: right;\n",
       "    }\n",
       "</style>\n",
       "<table border=\"1\" class=\"dataframe\">\n",
       "  <thead>\n",
       "    <tr style=\"text-align: right;\">\n",
       "      <th></th>\n",
       "      <th>drugId</th>\n",
       "    </tr>\n",
       "  </thead>\n",
       "  <tbody>\n",
       "    <tr>\n",
       "      <th>0</th>\n",
       "      <td>CHEMBL1200632</td>\n",
       "    </tr>\n",
       "    <tr>\n",
       "      <th>1</th>\n",
       "      <td>CHEMBL1231</td>\n",
       "    </tr>\n",
       "    <tr>\n",
       "      <th>2</th>\n",
       "      <td>CHEMBL1233511</td>\n",
       "    </tr>\n",
       "    <tr>\n",
       "      <th>3</th>\n",
       "      <td>CHEMBL1637</td>\n",
       "    </tr>\n",
       "    <tr>\n",
       "      <th>4</th>\n",
       "      <td>CHEMBL1743017</td>\n",
       "    </tr>\n",
       "  </tbody>\n",
       "</table>\n",
       "</div>"
      ],
      "text/plain": [
       "          drugId\n",
       "0  CHEMBL1200632\n",
       "1     CHEMBL1231\n",
       "2  CHEMBL1233511\n",
       "3     CHEMBL1637\n",
       "4  CHEMBL1743017"
      ]
     },
     "execution_count": 41,
     "metadata": {},
     "output_type": "execute_result"
    }
   ],
   "source": [
    "df_drugs.head()"
   ]
  },
  {
   "cell_type": "code",
   "execution_count": 44,
   "id": "9293dd63",
   "metadata": {},
   "outputs": [],
   "source": [
    "list = df_drugs['drugId'].tolist()"
   ]
  },
  {
   "cell_type": "code",
   "execution_count": 5,
   "id": "b1668af5-8914-463f-818e-26127848d842",
   "metadata": {},
   "outputs": [
    {
     "name": "stdout",
     "output_type": "stream",
     "text": [
      "Requirement already satisfied: cx_oracle in /Users/bzdrazil/opt/anaconda3/lib/python3.9/site-packages (8.3.0)\n",
      "Note: you may need to restart the kernel to use updated packages.\n"
     ]
    }
   ],
   "source": [
    "pip install cx_oracle --upgrade"
   ]
  },
  {
   "cell_type": "code",
   "execution_count": 13,
   "id": "f9ff6463",
   "metadata": {},
   "outputs": [],
   "source": [
    "import cx_Oracle\n",
    "\n",
    "#cx_Oracle.init_oracle_client(lib_dir=\"/Users/bzdrazil/Downloads/instantclient_19_8\")  #https://www.oracle.com/in/database/technologies/instant-client/macos-intel-x86-downloads.html; https://stackoverflow.com/questions/56119490/cx-oracle-error-dpi-1047-cannot-locate-a-64-bit-oracle-client-library\n",
    "cx_Oracle.clientversion() \n",
    "\n",
    "import pandas as pd\n",
    "import sqlalchemy as sa\n",
    "# import requests\n",
    "import re\n",
    "import datetime as dt\n",
    "\n",
    "workdir = '/Users/bzdrazil/Desktop/'\n",
    "\n",
    "chempro = 'oracle://{}:{}@ora-vm-089.ebi.ac.uk:1531/?service_name=chempro'.format('', '') #login and password are required\n",
    "engine_ch = sa.create_engine(chempro)"
   ]
  },
  {
   "cell_type": "code",
   "execution_count": 46,
   "id": "31e4d877",
   "metadata": {},
   "outputs": [
    {
     "name": "stdout",
     "output_type": "stream",
     "text": [
      "\n",
      "    \n",
      "            select md.chembl_id, md.molregno, td.tid, cs.accession, td.pref_name, td.chembl_id as target_chembl_id,  MIN( act.standard_value) as MIN_standard_value, act.standard_units from chembl.molecule_dictionary md\n",
      "            join chembl.activities act on act.molregno = md.molregno\n",
      "            join chembl.assays a on a.assay_id = act.assay_id\n",
      "            join chembl.target_dictionary td on td.tid = a.tid\n",
      "            join chembl.target_components tc on tc.tid = td.tid\n",
      "            join chembl.component_sequences cs on cs.component_id = tc.component_id\n",
      "            where md.chembl_id = 'CHEMBL315076'\n",
      "            and act.standard_value is not NULL\n",
      "            and act.standard_units is not NULL\n",
      "            and td.organism = 'Homo sapiens'\n",
      "            and act.activity_comment is NULL\n",
      "            and act.standard_relation = '='\n",
      "            GROUP BY (md.chembl_id, md.molregno, td.tid, td.pref_name, td.chembl_id, cs.accession, act.standard_units, act.standard_relation )\n",
      "\n",
      "            \n"
     ]
    }
   ],
   "source": [
    "#chembl_drugs = ['CHEMBL1000', 'CHEMBL100014']\n",
    "\n",
    "chembl_drugs = list\n",
    "\n",
    "temp = []\n",
    "with engine_ch.begin() as conn:\n",
    "    for v in chembl_drugs:\n",
    "        q = '''\n",
    "    \n",
    "            select md.chembl_id, md.molregno, td.tid, cs.accession, td.pref_name, td.chembl_id as target_chembl_id,  MIN( act.standard_value) as MIN_standard_value, act.standard_units from chembl.molecule_dictionary md\n",
    "            join chembl.activities act on act.molregno = md.molregno\n",
    "            join chembl.assays a on a.assay_id = act.assay_id\n",
    "            join chembl.target_dictionary td on td.tid = a.tid\n",
    "            join chembl.target_components tc on tc.tid = td.tid\n",
    "            join chembl.component_sequences cs on cs.component_id = tc.component_id\n",
    "            where md.chembl_id = '{}'\n",
    "            and act.standard_value is not NULL\n",
    "            and act.standard_units is not NULL\n",
    "            and td.organism = 'Homo sapiens'\n",
    "            and act.activity_comment is NULL\n",
    "            and act.standard_relation = '='\n",
    "            GROUP BY (md.chembl_id, md.molregno, td.tid, td.pref_name, td.chembl_id, cs.accession, act.standard_units, act.standard_relation )\n",
    "\n",
    "            '''.format(v, v, v)\n",
    "        temp.append(pd.read_sql((q), conn ))\n",
    "print(q)"
   ]
  },
  {
   "cell_type": "code",
   "execution_count": 47,
   "id": "2b08fe44",
   "metadata": {},
   "outputs": [
    {
     "name": "stderr",
     "output_type": "stream",
     "text": [
      "/Users/bzdrazil/opt/anaconda3/lib/python3.9/site-packages/pandas/core/reshape/merge.py:1204: UserWarning: You are merging on int and float columns where the float values are not equal to their int representation\n",
      "  warnings.warn(\n"
     ]
    }
   ],
   "source": [
    "df = temp[0]\n",
    "for i in range(0,len(temp)-1):\n",
    "    df = df.merge(temp[i+1], how='outer')"
   ]
  },
  {
   "cell_type": "code",
   "execution_count": 48,
   "id": "227d8dc6",
   "metadata": {},
   "outputs": [
    {
     "data": {
      "text/html": [
       "<div>\n",
       "<style scoped>\n",
       "    .dataframe tbody tr th:only-of-type {\n",
       "        vertical-align: middle;\n",
       "    }\n",
       "\n",
       "    .dataframe tbody tr th {\n",
       "        vertical-align: top;\n",
       "    }\n",
       "\n",
       "    .dataframe thead th {\n",
       "        text-align: right;\n",
       "    }\n",
       "</style>\n",
       "<table border=\"1\" class=\"dataframe\">\n",
       "  <thead>\n",
       "    <tr style=\"text-align: right;\">\n",
       "      <th></th>\n",
       "      <th>chembl_id</th>\n",
       "      <th>molregno</th>\n",
       "      <th>tid</th>\n",
       "      <th>accession</th>\n",
       "      <th>pref_name</th>\n",
       "      <th>target_chembl_id</th>\n",
       "      <th>min_standard_value</th>\n",
       "      <th>standard_units</th>\n",
       "    </tr>\n",
       "  </thead>\n",
       "  <tbody>\n",
       "    <tr>\n",
       "      <th>0</th>\n",
       "      <td>CHEMBL1231</td>\n",
       "      <td>229058</td>\n",
       "      <td>11570</td>\n",
       "      <td>P17405</td>\n",
       "      <td>Sphingomyelin phosphodiesterase</td>\n",
       "      <td>CHEMBL2760</td>\n",
       "      <td>94.200</td>\n",
       "      <td>%</td>\n",
       "    </tr>\n",
       "    <tr>\n",
       "      <th>1</th>\n",
       "      <td>CHEMBL1231</td>\n",
       "      <td>229058</td>\n",
       "      <td>104691</td>\n",
       "      <td>P20309</td>\n",
       "      <td>Muscarinic acetylcholine receptor</td>\n",
       "      <td>CHEMBL2094109</td>\n",
       "      <td>0.600</td>\n",
       "      <td>mg.kg-1</td>\n",
       "    </tr>\n",
       "    <tr>\n",
       "      <th>2</th>\n",
       "      <td>CHEMBL1231</td>\n",
       "      <td>229058</td>\n",
       "      <td>104691</td>\n",
       "      <td>P08172</td>\n",
       "      <td>Muscarinic acetylcholine receptor</td>\n",
       "      <td>CHEMBL2094109</td>\n",
       "      <td>0.600</td>\n",
       "      <td>mg.kg-1</td>\n",
       "    </tr>\n",
       "    <tr>\n",
       "      <th>3</th>\n",
       "      <td>CHEMBL1231</td>\n",
       "      <td>229058</td>\n",
       "      <td>215</td>\n",
       "      <td>P08912</td>\n",
       "      <td>Muscarinic acetylcholine receptor M5</td>\n",
       "      <td>CHEMBL2035</td>\n",
       "      <td>2.315</td>\n",
       "      <td>nM</td>\n",
       "    </tr>\n",
       "    <tr>\n",
       "      <th>4</th>\n",
       "      <td>CHEMBL1231</td>\n",
       "      <td>229058</td>\n",
       "      <td>104691</td>\n",
       "      <td>P08912</td>\n",
       "      <td>Muscarinic acetylcholine receptor</td>\n",
       "      <td>CHEMBL2094109</td>\n",
       "      <td>0.600</td>\n",
       "      <td>mg.kg-1</td>\n",
       "    </tr>\n",
       "  </tbody>\n",
       "</table>\n",
       "</div>"
      ],
      "text/plain": [
       "    chembl_id  molregno     tid accession  \\\n",
       "0  CHEMBL1231    229058   11570    P17405   \n",
       "1  CHEMBL1231    229058  104691    P20309   \n",
       "2  CHEMBL1231    229058  104691    P08172   \n",
       "3  CHEMBL1231    229058     215    P08912   \n",
       "4  CHEMBL1231    229058  104691    P08912   \n",
       "\n",
       "                              pref_name target_chembl_id  min_standard_value  \\\n",
       "0       Sphingomyelin phosphodiesterase       CHEMBL2760              94.200   \n",
       "1     Muscarinic acetylcholine receptor    CHEMBL2094109               0.600   \n",
       "2     Muscarinic acetylcholine receptor    CHEMBL2094109               0.600   \n",
       "3  Muscarinic acetylcholine receptor M5       CHEMBL2035               2.315   \n",
       "4     Muscarinic acetylcholine receptor    CHEMBL2094109               0.600   \n",
       "\n",
       "  standard_units  \n",
       "0              %  \n",
       "1        mg.kg-1  \n",
       "2        mg.kg-1  \n",
       "3             nM  \n",
       "4        mg.kg-1  "
      ]
     },
     "execution_count": 48,
     "metadata": {},
     "output_type": "execute_result"
    }
   ],
   "source": [
    "df.head()"
   ]
  },
  {
   "cell_type": "code",
   "execution_count": 59,
   "id": "de19e90f",
   "metadata": {},
   "outputs": [],
   "source": [
    "df_sorted = df.sort_values(by = 'chembl_id', ascending = True)"
   ]
  },
  {
   "cell_type": "code",
   "execution_count": 61,
   "id": "a36a3923",
   "metadata": {},
   "outputs": [
    {
     "data": {
      "text/html": [
       "<div>\n",
       "<style scoped>\n",
       "    .dataframe tbody tr th:only-of-type {\n",
       "        vertical-align: middle;\n",
       "    }\n",
       "\n",
       "    .dataframe tbody tr th {\n",
       "        vertical-align: top;\n",
       "    }\n",
       "\n",
       "    .dataframe thead th {\n",
       "        text-align: right;\n",
       "    }\n",
       "</style>\n",
       "<table border=\"1\" class=\"dataframe\">\n",
       "  <thead>\n",
       "    <tr style=\"text-align: right;\">\n",
       "      <th></th>\n",
       "      <th>chembl_id</th>\n",
       "      <th>molregno</th>\n",
       "      <th>tid</th>\n",
       "      <th>accession</th>\n",
       "      <th>pref_name</th>\n",
       "      <th>target_chembl_id</th>\n",
       "      <th>min_standard_value</th>\n",
       "      <th>standard_units</th>\n",
       "    </tr>\n",
       "  </thead>\n",
       "  <tbody>\n",
       "    <tr>\n",
       "      <th>14498</th>\n",
       "      <td>CHEMBL1000</td>\n",
       "      <td>111185</td>\n",
       "      <td>104067</td>\n",
       "      <td>Q96FL8</td>\n",
       "      <td>Multidrug and toxin extrusion protein 1</td>\n",
       "      <td>CHEMBL1743126</td>\n",
       "      <td>2.00</td>\n",
       "      <td>%</td>\n",
       "    </tr>\n",
       "    <tr>\n",
       "      <th>14490</th>\n",
       "      <td>CHEMBL1000</td>\n",
       "      <td>111185</td>\n",
       "      <td>17045</td>\n",
       "      <td>P08684</td>\n",
       "      <td>Cytochrome P450 3A4</td>\n",
       "      <td>CHEMBL340</td>\n",
       "      <td>13.00</td>\n",
       "      <td>%</td>\n",
       "    </tr>\n",
       "    <tr>\n",
       "      <th>14489</th>\n",
       "      <td>CHEMBL1000</td>\n",
       "      <td>111185</td>\n",
       "      <td>165</td>\n",
       "      <td>Q12809</td>\n",
       "      <td>HERG</td>\n",
       "      <td>CHEMBL240</td>\n",
       "      <td>30199.52</td>\n",
       "      <td>nM</td>\n",
       "    </tr>\n",
       "    <tr>\n",
       "      <th>14488</th>\n",
       "      <td>CHEMBL1000</td>\n",
       "      <td>111185</td>\n",
       "      <td>103947</td>\n",
       "      <td>Q9Y6L6</td>\n",
       "      <td>Solute carrier organic anion transporter famil...</td>\n",
       "      <td>CHEMBL1697668</td>\n",
       "      <td>35.70</td>\n",
       "      <td>%</td>\n",
       "    </tr>\n",
       "    <tr>\n",
       "      <th>14493</th>\n",
       "      <td>CHEMBL1000</td>\n",
       "      <td>111185</td>\n",
       "      <td>127</td>\n",
       "      <td>P35367</td>\n",
       "      <td>Histamine H1 receptor</td>\n",
       "      <td>CHEMBL231</td>\n",
       "      <td>5.89</td>\n",
       "      <td>nM</td>\n",
       "    </tr>\n",
       "  </tbody>\n",
       "</table>\n",
       "</div>"
      ],
      "text/plain": [
       "        chembl_id  molregno     tid accession  \\\n",
       "14498  CHEMBL1000    111185  104067    Q96FL8   \n",
       "14490  CHEMBL1000    111185   17045    P08684   \n",
       "14489  CHEMBL1000    111185     165    Q12809   \n",
       "14488  CHEMBL1000    111185  103947    Q9Y6L6   \n",
       "14493  CHEMBL1000    111185     127    P35367   \n",
       "\n",
       "                                               pref_name target_chembl_id  \\\n",
       "14498            Multidrug and toxin extrusion protein 1    CHEMBL1743126   \n",
       "14490                                Cytochrome P450 3A4        CHEMBL340   \n",
       "14489                                               HERG        CHEMBL240   \n",
       "14488  Solute carrier organic anion transporter famil...    CHEMBL1697668   \n",
       "14493                              Histamine H1 receptor        CHEMBL231   \n",
       "\n",
       "       min_standard_value standard_units  \n",
       "14498                2.00              %  \n",
       "14490               13.00              %  \n",
       "14489            30199.52             nM  \n",
       "14488               35.70              %  \n",
       "14493                5.89             nM  "
      ]
     },
     "execution_count": 61,
     "metadata": {},
     "output_type": "execute_result"
    }
   ],
   "source": [
    "df_sorted.head()"
   ]
  },
  {
   "cell_type": "code",
   "execution_count": 62,
   "id": "4a3cc670",
   "metadata": {},
   "outputs": [],
   "source": [
    "df_sorted.to_csv(\"/Users/bzdrazil/Dropbox/OT/Drug2Target/drug2target_bioactivities_chembl_33_grouped.csv\")"
   ]
  },
  {
   "cell_type": "code",
   "execution_count": 49,
   "id": "370a4c69",
   "metadata": {},
   "outputs": [
    {
     "data": {
      "text/plain": [
       "64695"
      ]
     },
     "execution_count": 49,
     "metadata": {},
     "output_type": "execute_result"
    }
   ],
   "source": [
    "len(df)"
   ]
  },
  {
   "cell_type": "code",
   "execution_count": 50,
   "id": "47697aad",
   "metadata": {},
   "outputs": [
    {
     "data": {
      "text/plain": [
       "7329"
      ]
     },
     "execution_count": 50,
     "metadata": {},
     "output_type": "execute_result"
    }
   ],
   "source": [
    "df.chembl_id.nunique()"
   ]
  },
  {
   "cell_type": "code",
   "execution_count": 76,
   "id": "8b968557",
   "metadata": {},
   "outputs": [
    {
     "name": "stdout",
     "output_type": "stream",
     "text": [
      "\n",
      "            select md.chembl_id, md.molregno, a.chembl_id as assay_chembl_id, d.src_id, s.src_short_name, d.journal, d.pubmed_id, d.doi, td.tid, cs.accession, td.pref_name, td.chembl_id as target_chembl_id, td.organism, act.standard_value, act.standard_units, act.standard_relation, act.pchembl_value from chembl.molecule_dictionary md\n",
      "            join chembl.activities act on act.molregno = md.molregno\n",
      "            join chembl.assays a on a.assay_id = act.assay_id\n",
      "            join chembl.target_dictionary td on td.tid = a.tid\n",
      "            join chembl.target_components tc on tc.tid = td.tid\n",
      "            join chembl.component_sequences cs on cs.component_id = tc.component_id\n",
      "            join chembl.docs d on d.doc_id = a.doc_id\n",
      "            join chembl.source s on s.src_id = a.src_id\n",
      "            where md.chembl_id = 'CHEMBL315076'\n",
      "            and act.standard_value is not NULL\n",
      "            and act.standard_units is not NULL\n",
      "            and td.organism = 'Homo sapiens'\n",
      "            and act.activity_comment is NULL\n",
      "            \n"
     ]
    }
   ],
   "source": [
    "#chembl_drugs = ['CHEMBL1000', 'CHEMBL100014']\n",
    "\n",
    "chembl_drugs = list\n",
    "\n",
    "temp = []\n",
    "with engine_ch.begin() as conn:\n",
    "    for v in chembl_drugs:\n",
    "        q = '''\n",
    "            select md.chembl_id, md.molregno, a.chembl_id as assay_chembl_id, d.src_id, s.src_short_name, d.journal, d.pubmed_id, d.doi, td.tid, cs.accession, td.pref_name, td.chembl_id as target_chembl_id, td.organism, act.standard_value, act.standard_units, act.standard_relation, act.pchembl_value from chembl.molecule_dictionary md\n",
    "            join chembl.activities act on act.molregno = md.molregno\n",
    "            join chembl.assays a on a.assay_id = act.assay_id\n",
    "            join chembl.target_dictionary td on td.tid = a.tid\n",
    "            join chembl.target_components tc on tc.tid = td.tid\n",
    "            join chembl.component_sequences cs on cs.component_id = tc.component_id\n",
    "            join chembl.docs d on d.doc_id = a.doc_id\n",
    "            join chembl.source s on s.src_id = a.src_id\n",
    "            where md.chembl_id = '{}'\n",
    "            and act.standard_value is not NULL\n",
    "            and act.standard_units is not NULL\n",
    "            and td.organism = 'Homo sapiens'\n",
    "            and act.activity_comment is NULL\n",
    "            '''.format(v, v, v)\n",
    "        temp.append(pd.read_sql((q), conn ))\n",
    "print(q)"
   ]
  },
  {
   "cell_type": "code",
   "execution_count": 95,
   "id": "93090d5a",
   "metadata": {},
   "outputs": [
    {
     "data": {
      "text/plain": [
       "12835"
      ]
     },
     "execution_count": 95,
     "metadata": {},
     "output_type": "execute_result"
    }
   ],
   "source": [
    "len(temp)"
   ]
  },
  {
   "cell_type": "code",
   "execution_count": 97,
   "id": "541c25ae",
   "metadata": {},
   "outputs": [],
   "source": [
    "df = temp[0]\n",
    "for i in range(0,len(temp)-1):\n",
    "    df = pd.concat([temp[i+1]], join='outer')"
   ]
  },
  {
   "cell_type": "code",
   "execution_count": 101,
   "id": "c3be8f85",
   "metadata": {},
   "outputs": [],
   "source": [
    "df = temp[0]\n",
    "for i in range(0,len(temp)-1):\n",
    "    df = df.append(temp[i+1])"
   ]
  },
  {
   "cell_type": "code",
   "execution_count": 104,
   "id": "6d4c1e45",
   "metadata": {},
   "outputs": [
    {
     "data": {
      "text/plain": [
       "198397"
      ]
     },
     "execution_count": 104,
     "metadata": {},
     "output_type": "execute_result"
    }
   ],
   "source": [
    "len(df)"
   ]
  },
  {
   "cell_type": "code",
   "execution_count": 105,
   "id": "b6b903cd",
   "metadata": {},
   "outputs": [
    {
     "data": {
      "text/html": [
       "<div>\n",
       "<style scoped>\n",
       "    .dataframe tbody tr th:only-of-type {\n",
       "        vertical-align: middle;\n",
       "    }\n",
       "\n",
       "    .dataframe tbody tr th {\n",
       "        vertical-align: top;\n",
       "    }\n",
       "\n",
       "    .dataframe thead th {\n",
       "        text-align: right;\n",
       "    }\n",
       "</style>\n",
       "<table border=\"1\" class=\"dataframe\">\n",
       "  <thead>\n",
       "    <tr style=\"text-align: right;\">\n",
       "      <th></th>\n",
       "      <th>chembl_id</th>\n",
       "      <th>molregno</th>\n",
       "      <th>assay_chembl_id</th>\n",
       "      <th>src_id</th>\n",
       "      <th>src_short_name</th>\n",
       "      <th>journal</th>\n",
       "      <th>pubmed_id</th>\n",
       "      <th>doi</th>\n",
       "      <th>tid</th>\n",
       "      <th>accession</th>\n",
       "      <th>pref_name</th>\n",
       "      <th>target_chembl_id</th>\n",
       "      <th>organism</th>\n",
       "      <th>standard_value</th>\n",
       "      <th>standard_units</th>\n",
       "      <th>standard_relation</th>\n",
       "      <th>pchembl_value</th>\n",
       "    </tr>\n",
       "  </thead>\n",
       "  <tbody>\n",
       "    <tr>\n",
       "      <th>0</th>\n",
       "      <td>CHEMBL1231</td>\n",
       "      <td>229058</td>\n",
       "      <td>CHEMBL1909171</td>\n",
       "      <td>15</td>\n",
       "      <td>DRUGMATRIX</td>\n",
       "      <td>None</td>\n",
       "      <td>NaN</td>\n",
       "      <td>None</td>\n",
       "      <td>47</td>\n",
       "      <td>P08172</td>\n",
       "      <td>Muscarinic acetylcholine receptor M2</td>\n",
       "      <td>CHEMBL211</td>\n",
       "      <td>Homo sapiens</td>\n",
       "      <td>27.000</td>\n",
       "      <td>nM</td>\n",
       "      <td>=</td>\n",
       "      <td>7.57</td>\n",
       "    </tr>\n",
       "    <tr>\n",
       "      <th>1</th>\n",
       "      <td>CHEMBL1231</td>\n",
       "      <td>229058</td>\n",
       "      <td>CHEMBL1909171</td>\n",
       "      <td>15</td>\n",
       "      <td>DRUGMATRIX</td>\n",
       "      <td>None</td>\n",
       "      <td>NaN</td>\n",
       "      <td>None</td>\n",
       "      <td>47</td>\n",
       "      <td>P08172</td>\n",
       "      <td>Muscarinic acetylcholine receptor M2</td>\n",
       "      <td>CHEMBL211</td>\n",
       "      <td>Homo sapiens</td>\n",
       "      <td>9.612</td>\n",
       "      <td>nM</td>\n",
       "      <td>=</td>\n",
       "      <td>8.02</td>\n",
       "    </tr>\n",
       "    <tr>\n",
       "      <th>2</th>\n",
       "      <td>CHEMBL1231</td>\n",
       "      <td>229058</td>\n",
       "      <td>CHEMBL891646</td>\n",
       "      <td>1</td>\n",
       "      <td>LITERATURE</td>\n",
       "      <td>Bioorg Med Chem Lett</td>\n",
       "      <td>17188867.0</td>\n",
       "      <td>10.1016/j.bmcl.2006.11.058</td>\n",
       "      <td>47</td>\n",
       "      <td>P08172</td>\n",
       "      <td>Muscarinic acetylcholine receptor M2</td>\n",
       "      <td>CHEMBL211</td>\n",
       "      <td>Homo sapiens</td>\n",
       "      <td>8.100</td>\n",
       "      <td>nM</td>\n",
       "      <td>=</td>\n",
       "      <td>8.09</td>\n",
       "    </tr>\n",
       "    <tr>\n",
       "      <th>3</th>\n",
       "      <td>CHEMBL1231</td>\n",
       "      <td>229058</td>\n",
       "      <td>CHEMBL863986</td>\n",
       "      <td>1</td>\n",
       "      <td>LITERATURE</td>\n",
       "      <td>Bioorg Med Chem Lett</td>\n",
       "      <td>16275087.0</td>\n",
       "      <td>10.1016/j.bmcl.2005.09.079</td>\n",
       "      <td>47</td>\n",
       "      <td>P08172</td>\n",
       "      <td>Muscarinic acetylcholine receptor M2</td>\n",
       "      <td>CHEMBL211</td>\n",
       "      <td>Homo sapiens</td>\n",
       "      <td>16.000</td>\n",
       "      <td>nM</td>\n",
       "      <td>=</td>\n",
       "      <td>7.8</td>\n",
       "    </tr>\n",
       "    <tr>\n",
       "      <th>4</th>\n",
       "      <td>CHEMBL1231</td>\n",
       "      <td>229058</td>\n",
       "      <td>CHEMBL2045510</td>\n",
       "      <td>1</td>\n",
       "      <td>LITERATURE</td>\n",
       "      <td>J Med Chem</td>\n",
       "      <td>22243489.0</td>\n",
       "      <td>10.1021/jm2013216</td>\n",
       "      <td>47</td>\n",
       "      <td>P08172</td>\n",
       "      <td>Muscarinic acetylcholine receptor M2</td>\n",
       "      <td>CHEMBL211</td>\n",
       "      <td>Homo sapiens</td>\n",
       "      <td>11.750</td>\n",
       "      <td>nM</td>\n",
       "      <td>=</td>\n",
       "      <td>7.93</td>\n",
       "    </tr>\n",
       "  </tbody>\n",
       "</table>\n",
       "</div>"
      ],
      "text/plain": [
       "    chembl_id molregno assay_chembl_id src_id src_short_name  \\\n",
       "0  CHEMBL1231   229058   CHEMBL1909171     15     DRUGMATRIX   \n",
       "1  CHEMBL1231   229058   CHEMBL1909171     15     DRUGMATRIX   \n",
       "2  CHEMBL1231   229058    CHEMBL891646      1     LITERATURE   \n",
       "3  CHEMBL1231   229058    CHEMBL863986      1     LITERATURE   \n",
       "4  CHEMBL1231   229058   CHEMBL2045510      1     LITERATURE   \n",
       "\n",
       "                journal   pubmed_id                         doi tid accession  \\\n",
       "0                  None         NaN                        None  47    P08172   \n",
       "1                  None         NaN                        None  47    P08172   \n",
       "2  Bioorg Med Chem Lett  17188867.0  10.1016/j.bmcl.2006.11.058  47    P08172   \n",
       "3  Bioorg Med Chem Lett  16275087.0  10.1016/j.bmcl.2005.09.079  47    P08172   \n",
       "4            J Med Chem  22243489.0           10.1021/jm2013216  47    P08172   \n",
       "\n",
       "                              pref_name target_chembl_id      organism  \\\n",
       "0  Muscarinic acetylcholine receptor M2        CHEMBL211  Homo sapiens   \n",
       "1  Muscarinic acetylcholine receptor M2        CHEMBL211  Homo sapiens   \n",
       "2  Muscarinic acetylcholine receptor M2        CHEMBL211  Homo sapiens   \n",
       "3  Muscarinic acetylcholine receptor M2        CHEMBL211  Homo sapiens   \n",
       "4  Muscarinic acetylcholine receptor M2        CHEMBL211  Homo sapiens   \n",
       "\n",
       "   standard_value standard_units standard_relation pchembl_value  \n",
       "0          27.000             nM                 =          7.57  \n",
       "1           9.612             nM                 =          8.02  \n",
       "2           8.100             nM                 =          8.09  \n",
       "3          16.000             nM                 =           7.8  \n",
       "4          11.750             nM                 =          7.93  "
      ]
     },
     "execution_count": 105,
     "metadata": {},
     "output_type": "execute_result"
    }
   ],
   "source": [
    "df.head()"
   ]
  },
  {
   "cell_type": "code",
   "execution_count": 106,
   "id": "5306ad9d",
   "metadata": {},
   "outputs": [],
   "source": [
    "df_sorted_2 = df.sort_values(by = 'chembl_id', ascending = True)"
   ]
  },
  {
   "cell_type": "code",
   "execution_count": 107,
   "id": "539706f3",
   "metadata": {},
   "outputs": [],
   "source": [
    "df_sorted_2.to_csv(\"/Users/bzdrazil/Dropbox/OT/Drug2Target/drug2target_bioactivities_chembl_33.csv\")"
   ]
  },
  {
   "cell_type": "code",
   "execution_count": null,
   "id": "30b81906",
   "metadata": {},
   "outputs": [],
   "source": []
  }
 ],
 "metadata": {
  "kernelspec": {
   "display_name": "Python 3 (ipykernel)",
   "language": "python",
   "name": "python3"
  },
  "language_info": {
   "codemirror_mode": {
    "name": "ipython",
    "version": 3
   },
   "file_extension": ".py",
   "mimetype": "text/x-python",
   "name": "python",
   "nbconvert_exporter": "python",
   "pygments_lexer": "ipython3",
   "version": "3.9.7"
  }
 },
 "nbformat": 4,
 "nbformat_minor": 5
}
